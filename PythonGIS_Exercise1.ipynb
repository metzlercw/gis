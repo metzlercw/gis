{
 "cells": [
  {
   "cell_type": "code",
   "execution_count": 4,
   "metadata": {},
   "outputs": [],
   "source": [
    "from shapely.geometry import Point, LineString, Polygon"
   ]
  },
  {
   "cell_type": "code",
   "execution_count": 2,
   "metadata": {},
   "outputs": [],
   "source": [
    "point1 = Point(2.2, 4.2)"
   ]
  },
  {
   "cell_type": "code",
   "execution_count": 3,
   "metadata": {},
   "outputs": [],
   "source": [
    "point2 = Point(7.2, -25.1)"
   ]
  },
  {
   "cell_type": "code",
   "execution_count": 4,
   "metadata": {},
   "outputs": [
    {
     "name": "stdout",
     "output_type": "stream",
     "text": [
      "POINT (2.2 4.2)\n"
     ]
    }
   ],
   "source": [
    "print(point1)"
   ]
  },
  {
   "cell_type": "code",
   "execution_count": 5,
   "metadata": {},
   "outputs": [
    {
     "name": "stdout",
     "output_type": "stream",
     "text": [
      "<class 'shapely.geometry.point.Point'>\n"
     ]
    }
   ],
   "source": [
    "print(type(point1))"
   ]
  },
  {
   "cell_type": "code",
   "execution_count": 6,
   "metadata": {},
   "outputs": [],
   "source": [
    "point_coords = point1.coords"
   ]
  },
  {
   "cell_type": "code",
   "execution_count": 7,
   "metadata": {},
   "outputs": [],
   "source": [
    "xy = point_coords.xy"
   ]
  },
  {
   "cell_type": "code",
   "execution_count": 10,
   "metadata": {},
   "outputs": [],
   "source": [
    "x = point1.x"
   ]
  },
  {
   "cell_type": "code",
   "execution_count": 11,
   "metadata": {},
   "outputs": [
    {
     "data": {
      "text/plain": [
       "2.2"
      ]
     },
     "execution_count": 11,
     "metadata": {},
     "output_type": "execute_result"
    }
   ],
   "source": [
    "x"
   ]
  },
  {
   "cell_type": "code",
   "execution_count": 12,
   "metadata": {},
   "outputs": [],
   "source": [
    "point_dist = point1.distance(point2)"
   ]
  },
  {
   "cell_type": "code",
   "execution_count": 13,
   "metadata": {},
   "outputs": [
    {
     "name": "stdout",
     "output_type": "stream",
     "text": [
      "29.723559679150142\n"
     ]
    }
   ],
   "source": [
    "print(point_dist)"
   ]
  },
  {
   "cell_type": "code",
   "execution_count": 15,
   "metadata": {},
   "outputs": [],
   "source": [
    "a = (7.2 - 2.2)**2\n",
    "b = (-25.1 - 4.2)**2"
   ]
  },
  {
   "cell_type": "code",
   "execution_count": 17,
   "metadata": {},
   "outputs": [],
   "source": [
    "c2 = a + b"
   ]
  },
  {
   "cell_type": "code",
   "execution_count": 19,
   "metadata": {},
   "outputs": [],
   "source": [
    "c = c2**(1/2)"
   ]
  },
  {
   "cell_type": "code",
   "execution_count": 20,
   "metadata": {},
   "outputs": [
    {
     "name": "stdout",
     "output_type": "stream",
     "text": [
      "29.723559679150142\n"
     ]
    }
   ],
   "source": [
    "print(c)"
   ]
  },
  {
   "cell_type": "code",
   "execution_count": 21,
   "metadata": {},
   "outputs": [],
   "source": [
    "line = LineString([point1, point2])"
   ]
  },
  {
   "cell_type": "code",
   "execution_count": 22,
   "metadata": {},
   "outputs": [
    {
     "name": "stdout",
     "output_type": "stream",
     "text": [
      "LINESTRING (2.2 4.2, 7.2 -25.1)\n"
     ]
    }
   ],
   "source": [
    "print(line)"
   ]
  },
  {
   "cell_type": "code",
   "execution_count": 23,
   "metadata": {},
   "outputs": [],
   "source": [
    "l_length = line.length"
   ]
  },
  {
   "cell_type": "code",
   "execution_count": 24,
   "metadata": {},
   "outputs": [
    {
     "name": "stdout",
     "output_type": "stream",
     "text": [
      "29.723559679150142\n"
     ]
    }
   ],
   "source": [
    "print(l_length)"
   ]
  },
  {
   "cell_type": "code",
   "execution_count": 25,
   "metadata": {},
   "outputs": [],
   "source": [
    "l_centroid = line.centroid"
   ]
  },
  {
   "cell_type": "code",
   "execution_count": 26,
   "metadata": {},
   "outputs": [
    {
     "name": "stdout",
     "output_type": "stream",
     "text": [
      "POINT (4.7 -10.45)\n"
     ]
    }
   ],
   "source": [
    "print(l_centroid)"
   ]
  },
  {
   "cell_type": "code",
   "execution_count": 27,
   "metadata": {},
   "outputs": [],
   "source": [
    "x1 = point1.x\n",
    "x2 = point2.x\n",
    "y1 = point1.y\n",
    "y2 = point2.y"
   ]
  },
  {
   "cell_type": "code",
   "execution_count": 30,
   "metadata": {},
   "outputs": [],
   "source": [
    "x_range = x2 - x1\n",
    "y_range = y2 - y1\n"
   ]
  },
  {
   "cell_type": "code",
   "execution_count": 32,
   "metadata": {},
   "outputs": [
    {
     "name": "stdout",
     "output_type": "stream",
     "text": [
      "5.0 -29.3\n"
     ]
    }
   ],
   "source": [
    "print(x_range, y_range)"
   ]
  },
  {
   "cell_type": "markdown",
   "metadata": {},
   "source": [
    "## Exercise 1"
   ]
  },
  {
   "cell_type": "markdown",
   "metadata": {},
   "source": [
    "#### Problem 1: Creating Basic Geometries"
   ]
  },
  {
   "cell_type": "code",
   "execution_count": 72,
   "metadata": {},
   "outputs": [],
   "source": [
    "## create geometry functions\n",
    "\n",
    "def createPointGeom(x_coord, y_coord):\n",
    "    point = Point(x_coord, y_coord)\n",
    "    print(\"Created point at x = {}, y = {}\".format(x_coord, y_coord))\n",
    "    return point\n",
    "\n",
    "def createLineGeom(verts):\n",
    "    for vert in verts:\n",
    "        if isinstance(vert, Point) is False:\n",
    "            print(\"Vertex {} is invalid!\".format(vert))\n",
    "            return\n",
    "    line = LineString(verts)\n",
    "    print(\"Created line with vertices:\")\n",
    "    for vert in verts:\n",
    "          print(\"({}, {})\".format(vert.x , vert.y))\n",
    "    \n",
    "    return line\n",
    "        \n",
    "def createPolyGeom(verts):\n",
    "    if len(verts) < 3:\n",
    "        print(\"You need at least 3 coordinates to define a polygon.\")\n",
    "        return\n",
    "    if type(verts[0]) == Point:\n",
    "        print(\"Input was shapely points as vertices\")\n",
    "        poly = Polygon(verts)\n",
    "    elif type(verts[0]) == tuple:\n",
    "        print(\"Input was coordinate tuples as vertices\")\n",
    "        poly = Polygon(verts)\n",
    "    return poly\n",
    "    "
   ]
  },
  {
   "cell_type": "code",
   "execution_count": 111,
   "metadata": {},
   "outputs": [],
   "source": [
    "## get attribute functions\n",
    "\n",
    "def getCentroid(shape):\n",
    "    centroid = shape.centroid\n",
    "    print(\"Shape has centroid ({}, {})\".format(centroid.x , centroid.y))\n",
    "    return centroid\n",
    "\n",
    "def getArea(polygon):\n",
    "    area = polygon.area\n",
    "    print(\"Polygon feature has area {}.\".format(area))\n",
    "    return area\n",
    "\n",
    "def getLength(shape):\n",
    "    if isinstance(shape, LineString) is True:\n",
    "        length = shape.length\n",
    "        print(\"Line feature has length {}.\".format(length))\n",
    "    elif isinstance(shape, Polygon) is True:\n",
    "        length = shape.length\n",
    "        print(\"Polygon feature has perimeter {}.\".format(length))\n",
    "    else: \n",
    "        print(\"Error: LineString or Polygon geometries required!\")\n",
    "        return\n",
    "    return length"
   ]
  },
  {
   "cell_type": "code",
   "execution_count": 113,
   "metadata": {},
   "outputs": [],
   "source": [
    "## file coordinates to geometry\n",
    "\n",
    "def "
   ]
  },
  {
   "cell_type": "code",
   "execution_count": 100,
   "metadata": {},
   "outputs": [
    {
     "name": "stdout",
     "output_type": "stream",
     "text": [
      "Created point at x = 2.7, y = 5.4\n",
      "Created point at x = 11.2, y = 4.3\n",
      "Created point at x = 20, y = 21.5\n"
     ]
    }
   ],
   "source": [
    "point1 = createPointGeom(2.7, 5.4)\n",
    "point2 = createPointGeom(11.2, 4.3)\n",
    "point3 = createPointGeom(20, 21.5)"
   ]
  },
  {
   "cell_type": "code",
   "execution_count": 101,
   "metadata": {},
   "outputs": [
    {
     "name": "stdout",
     "output_type": "stream",
     "text": [
      "Created line with vertices:\n",
      "(2.7, 5.4)\n",
      "(11.2, 4.3)\n",
      "(20.0, 21.5)\n"
     ]
    }
   ],
   "source": [
    "line1 = createLineGeom([point1, point2, point3])"
   ]
  },
  {
   "cell_type": "code",
   "execution_count": 102,
   "metadata": {},
   "outputs": [
    {
     "name": "stdout",
     "output_type": "stream",
     "text": [
      "Input was shapely points as vertices\n"
     ]
    }
   ],
   "source": [
    "poly = createPolyGeom([point1, point2, point3])"
   ]
  },
  {
   "cell_type": "code",
   "execution_count": 103,
   "metadata": {},
   "outputs": [
    {
     "name": "stdout",
     "output_type": "stream",
     "text": [
      "<class 'tuple'>\n"
     ]
    }
   ],
   "source": [
    "print(type(x))"
   ]
  },
  {
   "cell_type": "code",
   "execution_count": 104,
   "metadata": {},
   "outputs": [
    {
     "name": "stdout",
     "output_type": "stream",
     "text": [
      "Shape has centroid (11.299999999999999, 10.4)\n"
     ]
    }
   ],
   "source": [
    "centroid = getCentroid(poly)"
   ]
  },
  {
   "cell_type": "code",
   "execution_count": 105,
   "metadata": {},
   "outputs": [
    {
     "name": "stdout",
     "output_type": "stream",
     "text": [
      "Line feature has length 27.891336416059765.\n"
     ]
    }
   ],
   "source": [
    "length = getLength(line1)"
   ]
  },
  {
   "cell_type": "code",
   "execution_count": 106,
   "metadata": {},
   "outputs": [
    {
     "name": "stdout",
     "output_type": "stream",
     "text": [
      "Polygon feature has area 77.94000000000001.\n"
     ]
    }
   ],
   "source": [
    "area = getArea(poly)"
   ]
  },
  {
   "cell_type": "code",
   "execution_count": 107,
   "metadata": {},
   "outputs": [
    {
     "name": "stdout",
     "output_type": "stream",
     "text": [
      "<class 'shapely.geometry.linestring.LineString'>\n",
      "<class 'shapely.geometry.polygon.Polygon'>\n"
     ]
    }
   ],
   "source": [
    "print(type(line1))\n",
    "print(type(poly))"
   ]
  },
  {
   "cell_type": "code",
   "execution_count": 108,
   "metadata": {},
   "outputs": [
    {
     "name": "stdout",
     "output_type": "stream",
     "text": [
      "Line feature has length 27.891336416059765.\n"
     ]
    }
   ],
   "source": [
    "length = getLength(line1)"
   ]
  },
  {
   "cell_type": "code",
   "execution_count": 109,
   "metadata": {},
   "outputs": [
    {
     "name": "stdout",
     "output_type": "stream",
     "text": [
      "Polygon feature has perimeter 51.52394101225271.\n"
     ]
    }
   ],
   "source": [
    "length2 = getLength(poly)"
   ]
  },
  {
   "cell_type": "code",
   "execution_count": 112,
   "metadata": {},
   "outputs": [
    {
     "name": "stdout",
     "output_type": "stream",
     "text": [
      "Error: LineString or Polygon geometries required!\n"
     ]
    }
   ],
   "source": [
    "length3 = getLength(point1)"
   ]
  },
  {
   "cell_type": "code",
   "execution_count": null,
   "metadata": {},
   "outputs": [],
   "source": []
  }
 ],
 "metadata": {
  "kernelspec": {
   "display_name": "Python 3",
   "language": "python",
   "name": "python3"
  },
  "language_info": {
   "codemirror_mode": {
    "name": "ipython",
    "version": 3
   },
   "file_extension": ".py",
   "mimetype": "text/x-python",
   "name": "python",
   "nbconvert_exporter": "python",
   "pygments_lexer": "ipython3",
   "version": "3.7.8"
  }
 },
 "nbformat": 4,
 "nbformat_minor": 4
}
